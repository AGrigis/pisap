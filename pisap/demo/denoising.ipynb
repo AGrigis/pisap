{
 "metadata": {
  "name": "",
  "signature": "sha256:2bfb6c6949fe173e3fd68d27cf71aa8dad6221277e725c23877e5b6d2073986f"
 },
 "nbformat": 3,
 "nbformat_minor": 0,
 "worksheets": [
  {
   "cells": [
    {
     "cell_type": "markdown",
     "metadata": {},
     "source": [
      "<h1><center>PISAP: Python Interactive Sparse Astronomical Data Analysis Packages</center></h1>\n",
      "<h2><center>Anstronomic/Neuroimaging denoising tutorial</center></h2>\n",
      "<div style=\"text-align: center\">Credit: </div>\n",
      "\n",
      "Pisap is a Python package related to sparsity and its application in\n",
      "astronomical or mediacal data analysis. This package propose sparse denosing methods reusable in various contexts.\n",
      "For more information please visit the project page on github: https://github.com/neurospin/pisap.<br><br>\n",
      "\n",
      "<h3>First check</h3>\n",
      "\n",
      "In order to test if the 'pisap' package is installed on your machine, you can check the package version:"
     ]
    },
    {
     "cell_type": "code",
     "collapsed": false,
     "input": [
      "import pisap\n",
      "\n",
      "print pisap.__version__"
     ],
     "language": "python",
     "metadata": {},
     "outputs": [
      {
       "output_type": "stream",
       "stream": "stdout",
       "text": [
        "0.0.0\n"
       ]
      }
     ],
     "prompt_number": 2
    },
    {
     "cell_type": "markdown",
     "metadata": {},
     "source": [
      "<h2>The Condat-Vu primal dual sparse denoising with reweightings</h2>\n",
      "\n",
      "The package provides a flexible implementation of the Condat-Vu denoising algorithm that can be reused is various contexts. In this tutorial we will apply this denoising method on two toy astronomical and neuroimaging toy dataset respectivelly.\n",
      "\n",
      "<h3>Astronomical denoising</h3>\n",
      "\n",
      "First load the toy datase and the associated sampling mask."
     ]
    },
    {
     "cell_type": "code",
     "collapsed": false,
     "input": [
      "import pisap\n",
      "from pisap.data import get_sample_data\n",
      "\n",
      "fits_data_path = get_sample_data(\"astro-fits\")\n",
      "image = pisap.io.load(fits_data_path)\n",
      "image.show()\n",
      "mask_data_path = get_sample_data(\"astro-mask\")\n",
      "mask = pisap.io.load(mask_data_path)\n",
      "mask.show()"
     ],
     "language": "python",
     "metadata": {},
     "outputs": [],
     "prompt_number": 1
    },
    {
     "cell_type": "markdown",
     "metadata": {},
     "source": [
      "Now generate a synthetic image from the previous toy_dataset and sampling mask."
     ]
    },
    {
     "cell_type": "code",
     "collapsed": false,
     "input": [
      "from pisap.numerics.noise import add_noise\n",
      "import scipy.fftpack as pfft\n",
      "\n",
      "dirty_image = add_noise(image.data, sigma=0.01, noise_type=\"gauss\")\n",
      "dirty_image.show()\n",
      "mask_shift = pfft.ifftshift(mask.data)\n",
      "dirty_fft = mask_shift * pfft.fft2(dirty_image.data)"
     ],
     "language": "python",
     "metadata": {},
     "outputs": [],
     "prompt_number": 2
    },
    {
     "cell_type": "markdown",
     "metadata": {},
     "source": [
      "Now run the denoising algoritm with custom gradient and linear operator using a positivity constraint."
     ]
    },
    {
     "cell_type": "code",
     "collapsed": false,
     "input": [
      "from pisap.numerics.reconstruct import sparse_rec_condat_vu\n",
      "from pisap.numerics.gradient import Grad2D\n",
      "from pisap.numerics.linear import Wavelet\n",
      "\n",
      "x, y = sparse_rec_condat_vu(\n",
      "    dirty_fft,\n",
      "    gradient_cls=Grad2D,\n",
      "    gradient_kwargs={\n",
      "        \"mask\": mask_shift},\n",
      "    linear_cls=Wavelet,\n",
      "    linear_kwargs={\n",
      "        \"maxscale\": 4,\n",
      "        \"type_of_multiresolution_transform\": 2,\n",
      "        \"write_all_bands\": False,\n",
      "        \"write_all_bands_with_block_interp\": False,\n",
      "        \"type_of_filters\": 1,\n",
      "        \"use_l2_norm\": False,\n",
      "        \"type_of_non_orthog_filters\": 2},\n",
      "    nb_of_reweights=2,\n",
      "    max_nb_of_iter=10,\n",
      "    relaxation_factor=1.0,\n",
      "    add_positivity=True,\n",
      "    std_est_method=\"sparse\",\n",
      "    std_thr=2.,\n",
      "    verbose=1)\n",
      "\n",
      "x.show()\n",
      "y.show()"
     ],
     "language": "python",
     "metadata": {},
     "outputs": [
      {
       "output_type": "stream",
       "stream": "stdout",
       "text": [
        "--------------------\n",
        "Starting Condat-Vu proximal-dual splitting reconstruction algorithm.\n",
        " - tau: "
       ]
      },
      {
       "output_type": "stream",
       "stream": "stdout",
       "text": [
        " 0.444800318239\n",
        " - sigma:  0.444800318239\n",
        " - rho:  1.0\n",
        " - std:  1.0\n",
        " - 1/tau - sigma||L||^2 >= beta/2:  True\n",
        " - Primal Variable Shape: "
       ]
      },
      {
       "output_type": "stream",
       "stream": "stdout",
       "text": [
        " (128, 128)\n",
        " - Dual Variable Shape:  (4, 4, 128, 128)\n",
        "--------------------\n",
        " - ITERATION: "
       ]
      },
      {
       "output_type": "stream",
       "stream": "stdout",
       "text": [
        " 1\n",
        " - STD RESIDUAL:  4.63734079237\n",
        " - MIN(X):  0.0\n",
        " - ITERATION: "
       ]
      },
      {
       "output_type": "stream",
       "stream": "stdout",
       "text": [
        " 2\n",
        " - STD RESIDUAL:  3.11113781015\n",
        " - MIN(X):  0.0\n",
        " - ITERATION: "
       ]
      },
      {
       "output_type": "stream",
       "stream": "stdout",
       "text": [
        " 3\n",
        " - STD RESIDUAL:  2.30947245757\n",
        " - MIN(X):  0.0\n",
        " - ITERATION: "
       ]
      },
      {
       "output_type": "stream",
       "stream": "stdout",
       "text": [
        " 4\n",
        " - STD RESIDUAL:  1.87477472886\n",
        " - MIN(X):  0.0\n",
        " - CONVERGENCE TEST:  0.716251518615\n",
        " - ITERATION: "
       ]
      },
      {
       "output_type": "stream",
       "stream": "stdout",
       "text": [
        " 5\n",
        " - STD RESIDUAL:  1.61632304362\n",
        " - MIN(X):  0.0\n",
        " - ITERATION: "
       ]
      },
      {
       "output_type": "stream",
       "stream": "stdout",
       "text": [
        " 6\n",
        " - STD RESIDUAL:  1.44324920117\n",
        " - MIN(X):  0.0\n",
        " - ITERATION: "
       ]
      },
      {
       "output_type": "stream",
       "stream": "stdout",
       "text": [
        " 7\n",
        " - STD RESIDUAL:  1.31507367459\n",
        " - MIN(X):  0.0\n",
        " - ITERATION: "
       ]
      },
      {
       "output_type": "stream",
       "stream": "stdout",
       "text": [
        " 8\n",
        " - STD RESIDUAL:  1.21355082202\n",
        " - MIN(X):  0.0\n",
        " - CONVERGENCE TEST:  0.318039422584\n",
        " - ITERATION: "
       ]
      },
      {
       "output_type": "stream",
       "stream": "stdout",
       "text": [
        " 9\n",
        " - STD RESIDUAL:  1.12997448153\n",
        " - MIN(X):  0.0\n",
        " - ITERATION: "
       ]
      },
      {
       "output_type": "stream",
       "stream": "stdout",
       "text": [
        " 10\n",
        " - STD RESIDUAL:  1.05932567759\n",
        " - MIN(X):  0.0\n",
        "----------\n",
        " - Reweight:  1\n",
        "----------\n",
        " - ITERATION: "
       ]
      },
      {
       "output_type": "stream",
       "stream": "stdout",
       "text": [
        " 11\n",
        " - STD RESIDUAL:  0.998624839828\n",
        " - MIN(X):  0.0\n",
        " - ITERATION: "
       ]
      },
      {
       "output_type": "stream",
       "stream": "stdout",
       "text": [
        " 12\n",
        " - STD RESIDUAL:  0.945651709463\n",
        " - MIN(X):  0.0\n",
        " - CONVERGENCE TEST:  0.211547185115\n",
        " - ITERATION: "
       ]
      },
      {
       "output_type": "stream",
       "stream": "stdout",
       "text": [
        " 13\n",
        " - STD RESIDUAL:  0.898669129917\n",
        " - MIN(X):  0.0\n",
        " - ITERATION: "
       ]
      },
      {
       "output_type": "stream",
       "stream": "stdout",
       "text": [
        " 14\n",
        " - STD RESIDUAL:  0.856796076998\n",
        " - MIN(X):  0.0\n",
        " - ITERATION: "
       ]
      },
      {
       "output_type": "stream",
       "stream": "stdout",
       "text": [
        " 15\n",
        " - STD RESIDUAL:  0.819225634656\n",
        " - MIN(X):  0.0\n",
        " - ITERATION: "
       ]
      },
      {
       "output_type": "stream",
       "stream": "stdout",
       "text": [
        " 16\n",
        " - STD RESIDUAL:  0.78533706329\n",
        " - MIN(X):  0.0\n",
        " - CONVERGENCE TEST:  0.164636334577\n",
        " - ITERATION: "
       ]
      },
      {
       "output_type": "stream",
       "stream": "stdout",
       "text": [
        " 17\n",
        " - STD RESIDUAL:  0.754484007473\n",
        " - MIN(X):  0.0\n",
        " - ITERATION: "
       ]
      },
      {
       "output_type": "stream",
       "stream": "stdout",
       "text": [
        " 18\n",
        " - STD RESIDUAL:  0.726345114941\n",
        " - MIN(X):  0.0\n",
        " - ITERATION: "
       ]
      },
      {
       "output_type": "stream",
       "stream": "stdout",
       "text": [
        " 19\n",
        " - STD RESIDUAL:  0.700514974299\n",
        " - MIN(X):  0.0\n",
        " - ITERATION: "
       ]
      },
      {
       "output_type": "stream",
       "stream": "stdout",
       "text": [
        " 20\n",
        " - STD RESIDUAL:  0.676739242005\n",
        " - MIN(X):  0.0\n",
        " - CONVERGENCE TEST:  0.1350501095\n",
        "----------\n",
        " - Reweight:  2\n",
        "----------\n",
        " - ITERATION: "
       ]
      },
      {
       "output_type": "stream",
       "stream": "stdout",
       "text": [
        " 21\n",
        " - STD RESIDUAL:  0.654732914928\n",
        " - MIN(X):  0.0\n",
        " - ITERATION: "
       ]
      },
      {
       "output_type": "stream",
       "stream": "stdout",
       "text": [
        " 22\n",
        " - STD RESIDUAL:  0.634300406832\n",
        " - MIN(X):  0.0\n",
        " - ITERATION: "
       ]
      },
      {
       "output_type": "stream",
       "stream": "stdout",
       "text": [
        " 23\n",
        " - STD RESIDUAL:  0.615261011785\n",
        " - MIN(X):  0.0\n",
        " - ITERATION: "
       ]
      },
      {
       "output_type": "stream",
       "stream": "stdout",
       "text": [
        " 24\n",
        " - STD RESIDUAL:  0.597505994509\n",
        " - MIN(X):  0.0\n",
        " - CONVERGENCE TEST:  0.114863139627\n",
        " - ITERATION: "
       ]
      },
      {
       "output_type": "stream",
       "stream": "stdout",
       "text": [
        " 25\n",
        " - STD RESIDUAL:  0.580875787617\n",
        " - MIN(X):  0.0\n",
        " - ITERATION: "
       ]
      },
      {
       "output_type": "stream",
       "stream": "stdout",
       "text": [
        " 26\n",
        " - STD RESIDUAL:  0.565271297627\n",
        " - MIN(X):  0.0\n",
        " - ITERATION: "
       ]
      },
      {
       "output_type": "stream",
       "stream": "stdout",
       "text": [
        " 27\n",
        " - STD RESIDUAL:  0.550575108703\n",
        " - MIN(X):  0.0\n",
        " - ITERATION: "
       ]
      },
      {
       "output_type": "stream",
       "stream": "stdout",
       "text": [
        " 28\n",
        " - STD RESIDUAL:  0.536709981921\n",
        " - MIN(X):  0.0\n",
        " - CONVERGENCE TEST:  0.100095796708\n",
        " - ITERATION: "
       ]
      },
      {
       "output_type": "stream",
       "stream": "stdout",
       "text": [
        " 29\n",
        " - STD RESIDUAL:  0.523624749726\n",
        " - MIN(X):  0.0\n",
        " - ITERATION: "
       ]
      },
      {
       "output_type": "stream",
       "stream": "stdout",
       "text": [
        " 30\n",
        " - STD RESIDUAL:  0.511289134209\n",
        " - MIN(X):  0.0\n",
        "--------------------"
       ]
      },
      {
       "output_type": "stream",
       "stream": "stdout",
       "text": [
        "\n",
        " - Final iteration number:  30\n",
        " - Final log10 cost value:  -0.58266687339\n",
        " - Converged:  False\n",
        " - Execution time:  12.001972  seconds\n"
       ]
      }
     ],
     "prompt_number": 3
    },
    {
     "cell_type": "code",
     "collapsed": false,
     "input": [
      "import matplotlib.pylab as plt\n",
      "\n",
      "plt.figure(\"Mask\")\n",
      "plt.imshow(mask_shift)\n",
      "plt.colorbar() \n",
      "\n",
      "plt.figure(\"Dirty image\")\n",
      "plt.imshow(dirty_image.data, interpolation=\"nearest\", cmap=\"gist_stern\")\n",
      "plt.colorbar()\n",
      "\n",
      "plt.figure(\"Analytic sparse reconstruction via Condat-Vu method\")\n",
      "plt.imshow(x.data, interpolation=\"nearest\", cmap=\"gist_stern\")\n",
      "plt.colorbar()\n",
      "\n",
      "plt.show()"
     ],
     "language": "python",
     "metadata": {},
     "outputs": [],
     "prompt_number": 4
    },
    {
     "cell_type": "markdown",
     "metadata": {},
     "source": [
      "<h3>Neuroimagin denoising</h3>\n",
      "\n",
      "First load the toy datase and the associated sampling mask."
     ]
    },
    {
     "cell_type": "code",
     "collapsed": false,
     "input": [
      "import numpy\n",
      "import scipy.fftpack as pfft\n",
      "import pisap\n",
      "from pisap.data import get_sample_data\n",
      "\n",
      "fits_data_path = get_sample_data(\"mri-slice-nifti\")\n",
      "image = pisap.io.load(fits_data_path)\n",
      "image.show()\n",
      "mask_data_path = get_sample_data(\"mri-mask\")\n",
      "mask = pisap.Image(data=numpy.ones(image.shape)) #pisap.io.load(mask_data_path, dtype=numpy.complex)\n",
      "mask.show()\n",
      "mask_shift = pfft.ifftshift(mask.data)"
     ],
     "language": "python",
     "metadata": {},
     "outputs": [
      {
       "output_type": "stream",
       "stream": "stderr",
       "text": [
        "/home/ag239446/.local/lib/python2.7/site-packages/pyqtgraph/functions.py:1013: RuntimeWarning: divide by zero encountered in double_scalars\n",
        "  data = rescaleData(data, scale/(maxVal-minVal), minVal, dtype=dtype)\n",
        "/home/ag239446/.local/lib/python2.7/site-packages/pyqtgraph/functions.py:870: RuntimeWarning: invalid value encountered in multiply\n",
        "  d2 *= scale\n"
       ]
      }
     ],
     "prompt_number": 5
    },
    {
     "cell_type": "markdown",
     "metadata": {},
     "source": [
      "Now generate a synthetic image from the previous toy_dataset and sampling mask."
     ]
    },
    {
     "cell_type": "code",
     "collapsed": false,
     "input": [
      "from pisap.numerics.noise import add_noise\n",
      "import scipy.fftpack as pfft\n",
      "\n",
      "dirty_image = add_noise(image.data, sigma=10, noise_type=\"gauss\")\n",
      "dirty_image.show()\n",
      "dirty_fft = mask_shift * pfft.fft2(dirty_image.data)"
     ],
     "language": "python",
     "metadata": {},
     "outputs": [],
     "prompt_number": 6
    },
    {
     "cell_type": "markdown",
     "metadata": {},
     "source": [
      "Now run the denoising algoritm with custom gradient and linear operator using a positivity constraint."
     ]
    },
    {
     "cell_type": "code",
     "collapsed": false,
     "input": [
      "from pisap.numerics.reconstruct import sparse_rec_condat_vu\n",
      "from pisap.numerics.gradient import Grad2D\n",
      "from pisap.numerics.linear import Wavelet\n",
      "\n",
      "x, y = sparse_rec_condat_vu(\n",
      "    dirty_fft,\n",
      "    gradient_cls=Grad2D,\n",
      "    gradient_kwargs={\n",
      "        \"mask\": mask_shift},\n",
      "    linear_cls=Wavelet,\n",
      "    linear_kwargs={\n",
      "        \"maxscale\": 4,\n",
      "        \"type_of_multiresolution_transform\": 2,\n",
      "        \"write_all_bands\": False,\n",
      "        \"write_all_bands_with_block_interp\": False,\n",
      "        \"type_of_filters\": 1,\n",
      "        \"use_l2_norm\": False,\n",
      "        \"type_of_non_orthog_filters\": 2},\n",
      "    nb_of_reweights=2,\n",
      "    max_nb_of_iter=10,\n",
      "    relaxation_factor=1.0,\n",
      "    add_positivity=True,\n",
      "    std_est_method=\"sparse\",\n",
      "    std_thr=2.,\n",
      "    verbose=1)\n",
      "\n",
      "x.show()\n",
      "y.show()"
     ],
     "language": "python",
     "metadata": {},
     "outputs": [
      {
       "output_type": "stream",
       "stream": "stdout",
       "text": [
        "--------------------\n",
        "Starting Condat-Vu proximal-dual splitting reconstruction algorithm.\n",
        " - tau: "
       ]
      },
      {
       "output_type": "stream",
       "stream": "stdout",
       "text": [
        " 0.444800318239\n",
        " - sigma:  0.444800318239\n",
        " - rho:  1.0\n",
        " - std:  1.0\n",
        " - 1/tau - sigma||L||^2 >= beta/2:  True\n",
        " - Primal Variable Shape: "
       ]
      },
      {
       "output_type": "stream",
       "stream": "stdout",
       "text": [
        " (512, 512)\n",
        " - Dual Variable Shape:  (4, 4, 512, 512)\n",
        "--------------------\n",
        " - ITERATION: "
       ]
      },
      {
       "output_type": "stream",
       "stream": "stdout",
       "text": [
        " 1\n",
        " - STD RESIDUAL:  17771.6382375\n",
        " - MIN(X):  0.0\n",
        " - ITERATION: "
       ]
      },
      {
       "output_type": "stream",
       "stream": "stdout",
       "text": [
        " 2\n",
        " - STD RESIDUAL:  10108.9274036\n",
        " - MIN(X):  0.0\n",
        " - ITERATION: "
       ]
      },
      {
       "output_type": "stream",
       "stream": "stdout",
       "text": [
        " 3\n",
        " - STD RESIDUAL:  6027.96578682\n",
        " - MIN(X):  0.0\n",
        " - ITERATION: "
       ]
      },
      {
       "output_type": "stream",
       "stream": "stdout",
       "text": [
        " 4\n",
        " - STD RESIDUAL:  4004.63248809\n",
        " - MIN(X):  0.0\n",
        " - CONVERGENCE TEST: "
       ]
      },
      {
       "output_type": "stream",
       "stream": "stdout",
       "text": [
        " 0.874711114097\n",
        " - ITERATION: "
       ]
      },
      {
       "output_type": "stream",
       "stream": "stdout",
       "text": [
        " 5\n",
        " - STD RESIDUAL:  3127.28195582\n",
        " - MIN(X):  0.0\n",
        " - ITERATION: "
       ]
      },
      {
       "output_type": "stream",
       "stream": "stdout",
       "text": [
        " 6\n",
        " - STD RESIDUAL:  2801.98762932\n",
        " - MIN(X):  0.0\n",
        " - ITERATION: "
       ]
      },
      {
       "output_type": "stream",
       "stream": "stdout",
       "text": [
        " 7\n",
        " - STD RESIDUAL:  2693.80799003\n",
        " - MIN(X):  0.0\n",
        " - ITERATION: "
       ]
      },
      {
       "output_type": "stream",
       "stream": "stdout",
       "text": [
        " 8\n",
        " - STD RESIDUAL:  2659.57489121\n",
        " - MIN(X):  0.0\n",
        " - CONVERGENCE TEST: "
       ]
      },
      {
       "output_type": "stream",
       "stream": "stdout",
       "text": [
        " 0.187231690876\n",
        " - ITERATION: "
       ]
      },
      {
       "output_type": "stream",
       "stream": "stdout",
       "text": [
        " 9\n",
        " - STD RESIDUAL:  2648.93345043\n",
        " - MIN(X):  0.0\n",
        " - ITERATION: "
       ]
      },
      {
       "output_type": "stream",
       "stream": "stdout",
       "text": [
        " 10\n",
        " - STD RESIDUAL:  2645.64463125\n",
        " - MIN(X):  0.0\n",
        "----------"
       ]
      },
      {
       "output_type": "stream",
       "stream": "stdout",
       "text": [
        "\n",
        " - Reweight:  1\n",
        "----------\n",
        " - ITERATION: "
       ]
      },
      {
       "output_type": "stream",
       "stream": "stdout",
       "text": [
        " 11\n",
        " - STD RESIDUAL:  2644.63003898\n",
        " - MIN(X):  0.0\n",
        " - ITERATION: "
       ]
      },
      {
       "output_type": "stream",
       "stream": "stdout",
       "text": [
        " 12\n",
        " - STD RESIDUAL:  2644.31721578\n",
        " - MIN(X):  0.0\n",
        " - CONVERGENCE TEST: "
       ]
      },
      {
       "output_type": "stream",
       "stream": "stdout",
       "text": [
        " 0.00212626677922\n",
        " - ITERATION: "
       ]
      },
      {
       "output_type": "stream",
       "stream": "stdout",
       "text": [
        " 13\n",
        " - STD RESIDUAL:  2644.2207816\n",
        " - MIN(X):  0.0\n",
        " - ITERATION: "
       ]
      },
      {
       "output_type": "stream",
       "stream": "stdout",
       "text": [
        " 14\n",
        " - STD RESIDUAL:  2644.19105538\n",
        " - MIN(X):  0.0\n",
        " - ITERATION: "
       ]
      },
      {
       "output_type": "stream",
       "stream": "stdout",
       "text": [
        " 15\n",
        " - STD RESIDUAL:  2644.1818923\n",
        " - MIN(X):  0.0\n",
        " - ITERATION: "
       ]
      },
      {
       "output_type": "stream",
       "stream": "stdout",
       "text": [
        " 16\n",
        " - STD RESIDUAL:  2644.17906781\n",
        " - MIN(X):  0.0\n",
        " - CONVERGENCE TEST: "
       ]
      },
      {
       "output_type": "stream",
       "stream": "stdout",
       "text": [
        " 1.92408284321e-05\n",
        " - Converged!\n",
        "----------\n",
        " - Reweight:  2\n",
        "----------\n",
        " - ITERATION: "
       ]
      },
      {
       "output_type": "stream",
       "stream": "stdout",
       "text": [
        " 17\n",
        " - STD RESIDUAL:  2644.17819717\n",
        " - MIN(X):  0.0\n",
        " - ITERATION: "
       ]
      },
      {
       "output_type": "stream",
       "stream": "stdout",
       "text": [
        " 18\n",
        " - STD RESIDUAL:  2644.17792879\n",
        " - MIN(X):  0.0\n",
        " - ITERATION: "
       ]
      },
      {
       "output_type": "stream",
       "stream": "stdout",
       "text": [
        " 19\n",
        " - STD RESIDUAL:  2644.17784607\n",
        " - MIN(X):  0.0\n",
        " - ITERATION: "
       ]
      },
      {
       "output_type": "stream",
       "stream": "stdout",
       "text": [
        " 20\n",
        " - STD RESIDUAL:  2644.17782057\n",
        " - MIN(X):  0.0\n",
        " - CONVERGENCE TEST: "
       ]
      },
      {
       "output_type": "stream",
       "stream": "stdout",
       "text": [
        " 1.73710705903e-07\n",
        " - Converged!\n",
        "--------------------"
       ]
      },
      {
       "output_type": "stream",
       "stream": "stdout",
       "text": [
        "\n",
        " - Final iteration number:  20\n",
        " - Final log10 cost value:  6.84458131607\n",
        " - Converged:  True\n",
        " - Execution time:  16.519431  seconds\n"
       ]
      }
     ],
     "prompt_number": 7
    },
    {
     "cell_type": "code",
     "collapsed": false,
     "input": [
      "import matplotlib.pylab as plt\n",
      "\n",
      "plt.figure(\"Mask\")\n",
      "plt.imshow(numpy.real(mask_shift))\n",
      "plt.colorbar() \n",
      "\n",
      "plt.figure(\"Dirty image\")\n",
      "plt.imshow(dirty_image.data, interpolation=\"nearest\", cmap=\"gist_stern\")\n",
      "plt.colorbar()\n",
      "\n",
      "plt.figure(\"Analytic sparse reconstruction via Condat-Vu method\")\n",
      "plt.imshow(x.data, interpolation=\"nearest\", cmap=\"gist_stern\")\n",
      "plt.colorbar()\n",
      "\n",
      "plt.show()"
     ],
     "language": "python",
     "metadata": {},
     "outputs": [],
     "prompt_number": 8
    },
    {
     "cell_type": "code",
     "collapsed": false,
     "input": [],
     "language": "python",
     "metadata": {},
     "outputs": []
    }
   ],
   "metadata": {}
  }
 ]
}
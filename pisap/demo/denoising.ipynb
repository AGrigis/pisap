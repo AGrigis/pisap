{
 "metadata": {
  "name": "",
  "signature": "sha256:d9852033fde7156e1eb86f801c12b40e8adc81ba7ca4b11cc5c6f2292433dd99"
 },
 "nbformat": 3,
 "nbformat_minor": 0,
 "worksheets": [
  {
   "cells": [
    {
     "cell_type": "markdown",
     "metadata": {},
     "source": [
      "<h1><center>PISAP: Python Interactive Sparse Astronomical Data Analysis Packages</center></h1>\n",
      "<h2><center>Anstronomic/Neuroimaging denoising tutorial</center></h2>\n",
      "<div style=\"text-align: center\">Credit: </div>\n",
      "\n",
      "Pisap is a Python package related to sparsity and its application in\n",
      "astronomical or mediacal data analysis. This package propose sparse denosing methods reusable in various contexts.\n",
      "For more information please visit the project page on github: https://github.com/neurospin/pisap.<br><br>\n",
      "\n",
      "<h3>First check</h3>\n",
      "\n",
      "In order to test if the 'pisap' package is installed on your machine, you can check the package version:"
     ]
    },
    {
     "cell_type": "code",
     "collapsed": false,
     "input": [
      "import pisap\n",
      "\n",
      "print pisap.__version__"
     ],
     "language": "python",
     "metadata": {},
     "outputs": [
      {
       "output_type": "stream",
       "stream": "stdout",
       "text": [
        "0.0.0\n"
       ]
      }
     ],
     "prompt_number": 1
    },
    {
     "cell_type": "markdown",
     "metadata": {},
     "source": [
      "<h2>The Condat-Vu primal dual sparse denoising with reweightings</h2>\n",
      "\n",
      "The package provides a flexible implementation of the Condat-Vu denoising algorithm that can be reused is various contexts. In this tutorial we will apply this denoising method on two toy astronomical and neuroimaging toy dataset respectivelly.\n",
      "\n",
      "<h3>Astronomical denoising</h3>\n",
      "\n",
      "First load the toy datase and the associated sampling mask."
     ]
    },
    {
     "cell_type": "code",
     "collapsed": false,
     "input": [
      "import pisap\n",
      "from pisap.data import get_sample_data\n",
      "\n",
      "fits_data_path = get_sample_data(\"astro-fits\")\n",
      "image = pisap.io.load(fits_data_path)\n",
      "image.show()\n",
      "mask_data_path = get_sample_data(\"astro-mask\")\n",
      "mask = pisap.io.load(mask_data_path)\n",
      "mask.show()"
     ],
     "language": "python",
     "metadata": {},
     "outputs": [],
     "prompt_number": 1
    },
    {
     "cell_type": "markdown",
     "metadata": {},
     "source": [
      "Now generate a synthetic image from the previous toy_dataset and sampling mask."
     ]
    },
    {
     "cell_type": "code",
     "collapsed": false,
     "input": [
      "from sf_deconvolve.lib.noise import add_noise\n",
      "import scipy.fftpack as pfft\n",
      "\n",
      "dirty_data = add_noise(image.data, sigma=0.01, noise_type=\"gauss\")\n",
      "dirty_image = pisap.Image(data=dirty_data)\n",
      "dirty_image.show()\n",
      "mask_shift = pfft.ifftshift(mask.data)\n",
      "dirty_fft = mask_shift * pfft.fft2(dirty_image.data)"
     ],
     "language": "python",
     "metadata": {},
     "outputs": [],
     "prompt_number": 2
    },
    {
     "cell_type": "markdown",
     "metadata": {},
     "source": [
      "Now run the denoising algoritm with custom gradient and linear operator using a positivity constraint."
     ]
    },
    {
     "cell_type": "code",
     "collapsed": false,
     "input": [
      "from pisap.numerics.reconstruct import sparse_rec_condat_vu\n",
      "from pisap.numerics.gradient import Grad2DSynthese\n",
      "from pisap.numerics.linear import Wavelet\n",
      "\n",
      "x, y = sparse_rec_condat_vu(\n",
      "    dirty_fft,\n",
      "    gradient_cls=Grad2DSynthese,\n",
      "    gradient_kwargs={\n",
      "        \"mask\": mask_shift},\n",
      "    linear_cls=Wavelet,\n",
      "    linear_kwargs={\n",
      "        \"nb_scale\": 4,\n",
      "        \"wavelet\": \"HaarWaveletTransform\"},\n",
      "    nb_of_reweights=0,\n",
      "    max_nb_of_iter=10,\n",
      "    relaxation_factor=1.0,\n",
      "    add_positivity=False,\n",
      "    std_est_method=\"sparse\",\n",
      "    std_thr=2.,\n",
      "    outdir=\"/tmp\",\n",
      "    verbose=1)\n",
      "\n",
      "x.show()\n",
      "y.show()"
     ],
     "language": "python",
     "metadata": {},
     "outputs": [
      {
       "output_type": "stream",
       "stream": "stdout",
       "text": [
        "--------------------\n",
        "Starting Condat-Vu proximal-dual splitting reconstruction algorithm.\n",
        " - Power Method converged after 3 iterations!\n",
        " - Power Method converged after 3 iterations!\n",
        " - tau: "
       ]
      },
      {
       "output_type": "stream",
       "stream": "stdout",
       "text": [
        " 0.5\n",
        " - sigma:  0.5\n",
        " - rho:  1.0\n",
        " - std:  1.0\n",
        " - 1/tau - sigma||L||^2 >= beta/2:  True\n",
        " - Primal Variable Shape: "
       ]
      },
      {
       "output_type": "stream",
       "stream": "stdout",
       "text": [
        " (128, 128)\n",
        " - Dual Variable Shape:  (16384,)\n",
        "--------------------\n",
        " - ITERATION:"
       ]
      },
      {
       "output_type": "stream",
       "stream": "stdout",
       "text": [
        " 2\n",
        " - STD RESIDUAL: 0.00390624764427\n",
        " - L2 NORM: 480.701882875\n",
        " - L1 NORM:"
       ]
      },
      {
       "output_type": "stream",
       "stream": "stdout",
       "text": [
        " 296.212\n",
        " - Log10 COST: 5.06383366357\n",
        "\n",
        " - ITERATION:"
       ]
      },
      {
       "output_type": "stream",
       "stream": "stdout",
       "text": [
        " 4\n",
        " - STD RESIDUAL: 0.00585937146102\n",
        " - L2 NORM: 721.052823651\n",
        " - L1 NORM:"
       ]
      },
      {
       "output_type": "stream",
       "stream": "stdout",
       "text": [
        " 148.106\n",
        " - Log10 COST: 5.41515152825\n",
        "\n",
        " - ITERATION:"
       ]
      },
      {
       "output_type": "stream",
       "stream": "stdout",
       "text": [
        " 6\n",
        " - STD RESIDUAL: 0.00708007379856\n",
        " - L2 NORM: 871.272155738\n",
        " - L1 NORM:"
       ]
      },
      {
       "output_type": "stream",
       "stream": "stdout",
       "text": [
        " 55.5398\n",
        " - Log10 COST: 5.57934121905\n",
        "\n",
        " - ITERATION:"
       ]
      },
      {
       "output_type": "stream",
       "stream": "stdout",
       "text": [
        " 8\n",
        " - STD RESIDUAL: 0.00756835478961\n",
        " - L2 NORM: 931.359895467\n",
        " - L1 NORM:"
       ]
      },
      {
       "output_type": "stream",
       "stream": "stdout",
       "text": [
        " 18.5133\n",
        " - Log10 COST: 5.63722360832\n",
        "\n",
        " - CONVERGENCE TEST: 1.16350253811\n",
        "\n",
        " - ITERATION:"
       ]
      },
      {
       "output_type": "stream",
       "stream": "stdout",
       "text": [
        " 10\n",
        " - STD RESIDUAL: 0.00773620136022\n",
        " - L2 NORM: 952.015053531\n",
        " - L1 NORM:"
       ]
      },
      {
       "output_type": "stream",
       "stream": "stdout",
       "text": [
        " 5.7854\n",
        " - Log10 COST: 5.65626318002\n",
        "\n",
        " - Saving cost function data to:"
       ]
      },
      {
       "output_type": "stream",
       "stream": "stdout",
       "text": [
        " cost_function.png\n",
        "--------------------\n",
        " - Final iteration number:  11\n",
        " - Final log10 cost value:  5.65626318002\n",
        " - Converged:  False\n",
        " - Execution time:  1.161013  seconds\n"
       ]
      }
     ],
     "prompt_number": 5
    },
    {
     "cell_type": "code",
     "collapsed": false,
     "input": [
      "import matplotlib.pylab as plt\n",
      "import numpy\n",
      "\n",
      "plt.figure(\"Mask\")\n",
      "plt.imshow(mask_shift)\n",
      "plt.colorbar() \n",
      "\n",
      "plt.figure(\"Dirty image\")\n",
      "plt.imshow(dirty_image.data, interpolation=\"nearest\", cmap=\"gist_stern\")\n",
      "plt.colorbar()\n",
      "\n",
      "plt.figure(\"Analytic sparse reconstruction via Condat-Vu method\")\n",
      "plt.imshow(numpy.abs(x.data), interpolation=\"nearest\", cmap=\"gist_stern\")\n",
      "plt.colorbar()\n",
      "\n",
      "plt.show()"
     ],
     "language": "python",
     "metadata": {},
     "outputs": [],
     "prompt_number": 8
    },
    {
     "cell_type": "markdown",
     "metadata": {},
     "source": [
      "<h3>Neuroimagin denoising</h3>\n",
      "\n",
      "First load the toy datase and the associated sampling mask."
     ]
    },
    {
     "cell_type": "code",
     "collapsed": false,
     "input": [
      "import scipy.fftpack as pfft\n",
      "import pisap\n",
      "from pisap.data import get_sample_data\n",
      "\n",
      "fits_data_path = get_sample_data(\"mri-slice-nifti\")\n",
      "image = pisap.io.load(fits_data_path)\n",
      "image.show()\n",
      "mask_data_path = get_sample_data(\"mri-mask\")\n",
      "mask = pisap.io.load(mask_data_path)\n",
      "mask.show()\n",
      "mask_shift = pfft.ifftshift(mask.data)"
     ],
     "language": "python",
     "metadata": {},
     "outputs": [],
     "prompt_number": 1
    },
    {
     "cell_type": "markdown",
     "metadata": {},
     "source": [
      "Now generate a synthetic image from the previous toy_dataset and sampling mask."
     ]
    },
    {
     "cell_type": "code",
     "collapsed": false,
     "input": [
      "from sf_deconvolve.lib.noise import add_noise\n",
      "import scipy.fftpack as pfft\n",
      "\n",
      "dirty_data = add_noise(image.data, sigma=0.01, noise_type=\"gauss\")\n",
      "dirty_image = pisap.Image(data=dirty_data)\n",
      "dirty_image.show()\n",
      "dirty_fft = mask_shift * pfft.fft2(dirty_image.data)"
     ],
     "language": "python",
     "metadata": {},
     "outputs": [],
     "prompt_number": 2
    },
    {
     "cell_type": "markdown",
     "metadata": {},
     "source": [
      "Now run the denoising algoritm with custom gradient and linear operator using a positivity constraint."
     ]
    },
    {
     "cell_type": "code",
     "collapsed": false,
     "input": [
      "from pisap.numerics.reconstruct import sparse_rec_condat_vu\n",
      "from pisap.numerics.gradient import Grad2DSynthese\n",
      "from pisap.numerics.linear import Wavelet\n",
      "\n",
      "x, y = sparse_rec_condat_vu(\n",
      "    dirty_fft,\n",
      "    gradient_cls=Grad2DSynthese,\n",
      "    gradient_kwargs={\n",
      "        \"mask\": mask_shift},\n",
      "    linear_cls=Wavelet,\n",
      "    linear_kwargs={\n",
      "        \"nb_scale\": 4,\n",
      "        \"wavelet\": \"HaarWaveletTransform\"},\n",
      "    nb_of_reweights=0,\n",
      "    max_nb_of_iter=10,\n",
      "    relaxation_factor=1.0,\n",
      "    add_positivity=False,\n",
      "    std_est_method=\"sparse\",\n",
      "    std_thr=2.,\n",
      "    outdir=\"/tmp\",\n",
      "    verbose=1)\n",
      "\n",
      "x.show()\n",
      "y.show()"
     ],
     "language": "python",
     "metadata": {},
     "outputs": [
      {
       "output_type": "stream",
       "stream": "stdout",
       "text": [
        "--------------------\n",
        "Starting Condat-Vu proximal-dual splitting reconstruction algorithm.\n",
        " - Power Method converged after 3 iterations!"
       ]
      },
      {
       "output_type": "stream",
       "stream": "stdout",
       "text": [
        "\n",
        " - Power Method converged after 3 iterations!"
       ]
      },
      {
       "output_type": "stream",
       "stream": "stdout",
       "text": [
        "\n",
        " - tau: "
       ]
      },
      {
       "output_type": "stream",
       "stream": "stdout",
       "text": [
        " 0.5\n",
        " - sigma:  0.5\n",
        " - rho:  1.0\n",
        " - std:  1.0\n",
        " - 1/tau - sigma||L||^2 >= beta/2:  True\n",
        " - Primal Variable Shape: "
       ]
      },
      {
       "output_type": "stream",
       "stream": "stdout",
       "text": [
        " (512, 512)\n",
        " - Dual Variable Shape:  (262144,)\n",
        "--------------------\n",
        " - ITERATION:"
       ]
      },
      {
       "output_type": "stream",
       "stream": "stdout",
       "text": [
        " 2\n",
        " - STD RESIDUAL: 0.000494140409225\n",
        " - L2 NORM:"
       ]
      },
      {
       "output_type": "stream",
       "stream": "stdout",
       "text": [
        " 4036511.82909\n",
        " - L1 NORM:"
       ]
      },
      {
       "output_type": "stream",
       "stream": "stdout",
       "text": [
        " 3.95795e+06\n",
        " - Log10 COST: 12.9109826744\n",
        "\n",
        " - ITERATION:"
       ]
      },
      {
       "output_type": "stream",
       "stream": "stdout",
       "text": [
        " 4\n",
        " - STD RESIDUAL: 0.000136671201653\n",
        " - L2 NORM:"
       ]
      },
      {
       "output_type": "stream",
       "stream": "stdout",
       "text": [
        " 1116433.97528\n",
        " - L1 NORM:"
       ]
      },
      {
       "output_type": "stream",
       "stream": "stdout",
       "text": [
        " 4.47882e+06\n",
        " - Log10 COST: 11.7946392144\n",
        "\n",
        " - ITERATION:"
       ]
      },
      {
       "output_type": "stream",
       "stream": "stdout",
       "text": [
        " 6\n",
        " - STD RESIDUAL: 5.84937039994e-05\n",
        " - L2 NORM:"
       ]
      },
      {
       "output_type": "stream",
       "stream": "stdout",
       "text": [
        " 477821.878995\n",
        " - L1 NORM:"
       ]
      },
      {
       "output_type": "stream",
       "stream": "stdout",
       "text": [
        " 4.57703e+06\n",
        " - Log10 COST: 11.0575194803\n",
        "\n",
        " - ITERATION:"
       ]
      },
      {
       "output_type": "stream",
       "stream": "stdout",
       "text": [
        " 8\n",
        " - STD RESIDUAL: 4.6194675886e-05\n",
        " - L2 NORM: 377354.393939\n",
        " - L1 NORM:"
       ]
      },
      {
       "output_type": "stream",
       "stream": "stdout",
       "text": [
        " 4.54099e+06\n",
        " - Log10 COST: 10.8524965252\n",
        "\n",
        " - CONVERGENCE TEST: 0.978863678321\n",
        "\n",
        " - ITERATION:"
       ]
      },
      {
       "output_type": "stream",
       "stream": "stdout",
       "text": [
        " 10\n",
        " - STD RESIDUAL: 4.35716115198e-05\n",
        " - L2 NORM:"
       ]
      },
      {
       "output_type": "stream",
       "stream": "stdout",
       "text": [
        " 355927.105664\n",
        " - L1 NORM:"
       ]
      },
      {
       "output_type": "stream",
       "stream": "stdout",
       "text": [
        " 4.42531e+06\n",
        " - Log10 COST: 10.8017224707\n",
        "\n",
        " - Saving cost function data to:"
       ]
      },
      {
       "output_type": "stream",
       "stream": "stdout",
       "text": [
        " /tmp/_cost_function.png\n",
        "--------------------\n",
        " - Final iteration number:  11\n",
        " - Final log10 cost value:  10.8017224707\n",
        " - Converged:  False\n",
        " - Execution time:  3.991922  seconds\n"
       ]
      }
     ],
     "prompt_number": 3
    },
    {
     "cell_type": "code",
     "collapsed": false,
     "input": [
      "import matplotlib.pylab as plt\n",
      "import numpy\n",
      "\n",
      "plt.figure(\"Mask\")\n",
      "plt.imshow(numpy.real(mask_shift))\n",
      "plt.colorbar() \n",
      "\n",
      "plt.figure(\"Dirty image\")\n",
      "plt.imshow(dirty_image.data, interpolation=\"nearest\", cmap=\"gist_stern\")\n",
      "plt.colorbar()\n",
      "\n",
      "plt.figure(\"Analytic sparse reconstruction via Condat-Vu method\")\n",
      "plt.imshow(numpy.abs(x.data), interpolation=\"nearest\", cmap=\"gist_stern\")\n",
      "plt.colorbar()\n",
      "\n",
      "plt.show()"
     ],
     "language": "python",
     "metadata": {},
     "outputs": [],
     "prompt_number": 5
    }
   ],
   "metadata": {}
  }
 ]
}
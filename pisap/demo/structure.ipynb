{
 "cells": [
  {
   "cell_type": "markdown",
   "metadata": {},
   "source": [
    "<h1><center>PISAP: Python Interactive Sparse Astronomical Data Analysis Packages</center></h1>\n",
    "<h2><center>Anstronomic/Neuroimaging common structure overview</center></h2>\n",
    "<div style=\"text-align: center\">Credit: A Grigis </div>\n",
    "\n",
    "Pisap is a Python package related to sparsity and its application in\n",
    "astronomical or mediacal data analysis. This package also bind the 'sparse2d' C++ library\n",
    "that allows fast and extended sparse decomposition, denoising and deconvolution.\n",
    "It is accessible to everybody, and is reusable in various contexts.\n",
    "The project is hosted on github: https://github.com/neurospin/pisap.<br><br>\n",
    "\n",
    "<h3>First checks</h3>\n",
    "\n",
    "In order to test if the 'pisap' package is installed on your machine, you can check the package version:"
   ]
  },
  {
   "cell_type": "code",
   "execution_count": 1,
   "metadata": {},
   "outputs": [
    {
     "name": "stdout",
     "output_type": "stream",
     "text": [
      "0.0.1\n"
     ]
    }
   ],
   "source": [
    "import pisap\n",
    "\n",
    "print pisap.__version__"
   ]
  },
  {
   "cell_type": "markdown",
   "metadata": {},
   "source": [
    "Now you can run the the configuration info function to see if all the dependencies are installed properly:"
   ]
  },
  {
   "cell_type": "code",
   "execution_count": 5,
   "metadata": {
    "scrolled": true
   },
   "outputs": [
    {
     "name": "stdout",
     "output_type": "stream",
     "text": [
      "\n",
      "'||'''|, |''||''| .|'''|       /.\\      '||'''|, \n",
      " ||   ||    ||    ||          // \\      ||   || \n",
      " ||...|'    ||    `|'''|,    //...\\     ||...|' \n",
      " ||         ||     .   ||   //     \\    ||      \n",
      ".||      |..||..|  |...|' .//       \\. .||    '\n",
      "                                       ''   \n",
      "\n",
      "Package version: \n",
      "\n",
      "0.0.1\n",
      "\n",
      "License: \n",
      "\n",
      "CeCILL-B\n",
      "\n",
      "Authors: \n",
      "\n",
      "Antoine Grigis <antoine.grigis@cea.fr>\n",
      "Jean-Luc Starck <jl.stark@cea.fr>\n",
      "Philippe Ciuciu <philippe.ciuciu@cea.fr>\n",
      "\n",
      "Dependencies: \n",
      "\n",
      "nibabel   : 2.1.0     - required | 2.2.0     installed\n",
      "pysparse  : 0.0.1     - required | 0.0.1     installed\n",
      "pyqtgraph : 0.10.0    - required | 0.10.0    installed\n",
      "scipy     : 0.18.0    - required | 0.19.1    installed\n",
      "numpy     : 1.11.0    - required | 1.13.3    installed\n",
      "pyfits    : 3.4       - required | 3.4       installed\n",
      "\n"
     ]
    }
   ],
   "source": [
    "import pisap.configure\n",
    "\n",
    "print pisap.configure.info()\n"
   ]
  },
  {
   "cell_type": "markdown",
   "metadata": {},
   "source": [
    "<h2>Import astronomical data</h2>\n",
    "\n",
    "The package provides a common interface to import and visualize astronomical FITS dataset. It also embeds a set of toy dataset that will be used during this tutorial:\n",
    "\n"
   ]
  },
  {
   "cell_type": "code",
   "execution_count": 6,
   "metadata": {},
   "outputs": [
    {
     "name": "stdout",
     "output_type": "stream",
     "text": [
      "(128, 128) [ 1.  1.] scalar\n",
      "{'BITPIX': -64,\n",
      " 'COMMENT': \"  and Astrophysics', volume 376, page 359; bibcode: 2001A&A...376..359H\",\n",
      " 'EXTEND': True,\n",
      " 'NAXIS': 2,\n",
      " 'NAXIS1': 128,\n",
      " 'NAXIS2': 128,\n",
      " 'SIMPLE': True,\n",
      " 'path': '/home/ag239446/.local/share/pisap/M31_128.fits'}\n",
      "float32\n"
     ]
    }
   ],
   "source": [
    "import pisap\n",
    "from pprint import pprint\n",
    "from pisap.data import get_sample_data\n",
    "\n",
    "image = get_sample_data(\"astro-fits\")\n",
    "print image.shape, image.spacing, image.data_type\n",
    "pprint(image.metadata)\n",
    "print image.data.dtype\n",
    "image.show()"
   ]
  },
  {
   "cell_type": "markdown",
   "metadata": {},
   "source": [
    "<h2>Import neuroimaging data</h2>\n",
    "\n",
    "The package provides a common interface to import and visualize neuroimaging NIFTI dataset. It also embeds a set of toy dataset that will be used during this tutorial:\n",
    "\n"
   ]
  },
  {
   "cell_type": "code",
   "execution_count": 7,
   "metadata": {},
   "outputs": [
    {
     "name": "stdout",
     "output_type": "stream",
     "text": [
      "(240, 256, 160) [ 1.          1.          1.10000002] scalar\n",
      "{'path': '/home/ag239446/.local/share/pisap/t1_localizer.nii.gz'}\n",
      "float32\n"
     ]
    }
   ],
   "source": [
    "import pisap\n",
    "from pprint import pprint\n",
    "from pisap.data import get_sample_data\n",
    "\n",
    "image = get_sample_data(\"mri-nifti\")\n",
    "image.scroll_axis = 2\n",
    "print image.shape, image.spacing, image.data_type\n",
    "pprint(image.metadata)\n",
    "print image.data.dtype\n",
    "image.show()"
   ]
  },
  {
   "cell_type": "markdown",
   "metadata": {},
   "source": [
    "<h2>Decompose/recompose an image using a fast ISAP/C++ based discrete wavelet transform</h2>\n",
    "\n",
    "The package provides also a common interface to the ISAP C++ software developped by the COSMOSTAT lab. The code is optimzed and give access to many decompsition strategies. All the ISAP library decompositions have been declared in a registery:"
   ]
  },
  {
   "cell_type": "code",
   "execution_count": 1,
   "metadata": {},
   "outputs": [
    {
     "name": "stdout",
     "output_type": "stream",
     "text": [
      "['BsplineWaveletTransformATrousAlgorithm',\n",
      " 'DecompositionOnScalingFunction',\n",
      " 'FastCurveletTransform',\n",
      " 'FeauveauWaveletTransform',\n",
      " 'FeauveauWaveletTransformWithoutUndersampling',\n",
      " 'HaarWaveletTransform',\n",
      " 'HalfPyramidalTransform',\n",
      " 'IsotropicAndCompactSupportWaveletInFourierSpace',\n",
      " 'LineColumnWaveletTransform1D1D',\n",
      " 'LinearWaveletTransformATrousAlgorithm',\n",
      " 'MallatWaveletTransform79Filters',\n",
      " 'MeyerWaveletsCompactInFourierSpace',\n",
      " 'MixedHalfPyramidalWTAndMedianMethod',\n",
      " 'MixedWTAndPMTMethod',\n",
      " 'MorphologicalMedianTransform',\n",
      " 'MorphologicalMinmaxTransform',\n",
      " 'MorphologicalPyramidalMinmaxTransform',\n",
      " 'NonOrthogonalUndecimatedTransform',\n",
      " 'OnLine44AndOnColumn53',\n",
      " 'OnLine53AndOnColumn44',\n",
      " 'PyramidalBsplineWaveletTransform',\n",
      " 'PyramidalLaplacian',\n",
      " 'PyramidalLinearWaveletTransform',\n",
      " 'PyramidalMedianTransform',\n",
      " 'PyramidalWaveletTransformInFourierSpaceAlgo1',\n",
      " 'PyramidalWaveletTransformInFourierSpaceAlgo2',\n",
      " 'UndecimatedBiOrthogonalTransform',\n",
      " 'UndecimatedDiadicWaveletTransform',\n",
      " 'UndecimatedHaarTransformATrousAlgorithm',\n",
      " 'WaveletTransformInFourierSpace',\n",
      " 'WaveletTransformViaLiftingScheme']\n"
     ]
    }
   ],
   "source": [
    "from pprint import pprint\n",
    "import pisap\n",
    "\n",
    "\n",
    "pprint(pisap.AVAILABLE_TRANSFORMS)"
   ]
  },
  {
   "cell_type": "markdown",
   "metadata": {},
   "source": [
    "We illustrate the the decompose/recompose using a 'FastCurveletTransform' and 4 scales:"
   ]
  },
  {
   "cell_type": "code",
   "execution_count": 1,
   "metadata": {},
   "outputs": [
    {
     "ename": "TypeError",
     "evalue": "__init__() got an unexpected keyword argument 'size'",
     "output_type": "error",
     "traceback": [
      "\u001b[0;31m---------------------------------------------------------------------------\u001b[0m",
      "\u001b[0;31mTypeError\u001b[0m                                 Traceback (most recent call last)",
      "\u001b[0;32m<ipython-input-1-4a1c9f8c6118>\u001b[0m in \u001b[0;36m<module>\u001b[0;34m()\u001b[0m\n\u001b[1;32m      7\u001b[0m \u001b[0mtransform\u001b[0m\u001b[0;34m.\u001b[0m\u001b[0mdata\u001b[0m \u001b[0;34m=\u001b[0m \u001b[0mimage\u001b[0m\u001b[0;34m\u001b[0m\u001b[0m\n\u001b[1;32m      8\u001b[0m \u001b[0mtransform\u001b[0m\u001b[0;34m.\u001b[0m\u001b[0manalysis\u001b[0m\u001b[0;34m(\u001b[0m\u001b[0;34m)\u001b[0m\u001b[0;34m\u001b[0m\u001b[0m\n\u001b[0;32m----> 9\u001b[0;31m \u001b[0mtransform\u001b[0m\u001b[0;34m.\u001b[0m\u001b[0mshow\u001b[0m\u001b[0;34m(\u001b[0m\u001b[0;34m)\u001b[0m\u001b[0;34m\u001b[0m\u001b[0m\n\u001b[0m\u001b[1;32m     10\u001b[0m \u001b[0mrec_image\u001b[0m \u001b[0;34m=\u001b[0m \u001b[0mtransform\u001b[0m\u001b[0;34m.\u001b[0m\u001b[0msynthesis\u001b[0m\u001b[0;34m(\u001b[0m\u001b[0;34m)\u001b[0m\u001b[0;34m\u001b[0m\u001b[0m\n\u001b[1;32m     11\u001b[0m \u001b[0mrec_image\u001b[0m\u001b[0;34m.\u001b[0m\u001b[0mshow\u001b[0m\u001b[0;34m(\u001b[0m\u001b[0;34m)\u001b[0m\u001b[0;34m\u001b[0m\u001b[0m\n",
      "\u001b[0;32m/home/ag239446/git/pisap/pisap/base/transform.pyc\u001b[0m in \u001b[0;36mshow\u001b[0;34m(self)\u001b[0m\n\u001b[1;32m    349\u001b[0m         \"\"\" Display the different bands at the different decomposition scales.\n\u001b[1;32m    350\u001b[0m         \"\"\"\n\u001b[0;32m--> 351\u001b[0;31m         \u001b[0mplot_transform\u001b[0m\u001b[0;34m(\u001b[0m\u001b[0mself\u001b[0m\u001b[0;34m)\u001b[0m\u001b[0;34m\u001b[0m\u001b[0m\n\u001b[0m\u001b[1;32m    352\u001b[0m \u001b[0;34m\u001b[0m\u001b[0m\n\u001b[1;32m    353\u001b[0m     \u001b[0;32mdef\u001b[0m \u001b[0manalysis\u001b[0m\u001b[0;34m(\u001b[0m\u001b[0mself\u001b[0m\u001b[0;34m,\u001b[0m \u001b[0;34m**\u001b[0m\u001b[0mkwargs\u001b[0m\u001b[0;34m)\u001b[0m\u001b[0;34m:\u001b[0m\u001b[0;34m\u001b[0m\u001b[0m\n",
      "\u001b[0;32m/home/ag239446/git/pisap/pisap/plotting/transform.py\u001b[0m in \u001b[0;36mplot_transform\u001b[0;34m(transform, scales, multiview)\u001b[0m\n\u001b[1;32m     77\u001b[0m                     box = window.addViewBox(row=row, col=col, border=\"00ff00\",\n\u001b[1;32m     78\u001b[0m                                             \u001b[0mlockAspect\u001b[0m\u001b[0;34m=\u001b[0m\u001b[0mTrue\u001b[0m\u001b[0;34m,\u001b[0m \u001b[0menableMouse\u001b[0m\u001b[0;34m=\u001b[0m\u001b[0mFalse\u001b[0m\u001b[0;34m,\u001b[0m\u001b[0;34m\u001b[0m\u001b[0m\n\u001b[0;32m---> 79\u001b[0;31m                                             size=\"200pt\")\n\u001b[0m\u001b[1;32m     80\u001b[0m                     \u001b[0mimage\u001b[0m \u001b[0;34m=\u001b[0m \u001b[0mpyqtgraph\u001b[0m\u001b[0;34m.\u001b[0m\u001b[0mImageItem\u001b[0m\u001b[0;34m(\u001b[0m\u001b[0msubband_data\u001b[0m\u001b[0;34m)\u001b[0m\u001b[0;34m\u001b[0m\u001b[0m\n\u001b[1;32m     81\u001b[0m                     \u001b[0mbox\u001b[0m\u001b[0;34m.\u001b[0m\u001b[0maddItem\u001b[0m\u001b[0;34m(\u001b[0m\u001b[0mimage\u001b[0m\u001b[0;34m)\u001b[0m\u001b[0;34m\u001b[0m\u001b[0m\n",
      "\u001b[0;32m/home/ag239446/.local/lib/python2.7/site-packages/pyqtgraph/graphicsItems/GraphicsLayout.pyc\u001b[0m in \u001b[0;36maddViewBox\u001b[0;34m(self, row, col, rowspan, colspan, **kargs)\u001b[0m\n\u001b[1;32m     75\u001b[0m         \u001b[0mReturns\u001b[0m \u001b[0mthe\u001b[0m \u001b[0mcreated\u001b[0m \u001b[0mitem\u001b[0m\u001b[0;34m.\u001b[0m\u001b[0;34m\u001b[0m\u001b[0m\n\u001b[1;32m     76\u001b[0m         \"\"\"\n\u001b[0;32m---> 77\u001b[0;31m         \u001b[0mvb\u001b[0m \u001b[0;34m=\u001b[0m \u001b[0mViewBox\u001b[0m\u001b[0;34m(\u001b[0m\u001b[0;34m**\u001b[0m\u001b[0mkargs\u001b[0m\u001b[0;34m)\u001b[0m\u001b[0;34m\u001b[0m\u001b[0m\n\u001b[0m\u001b[1;32m     78\u001b[0m         \u001b[0mself\u001b[0m\u001b[0;34m.\u001b[0m\u001b[0maddItem\u001b[0m\u001b[0;34m(\u001b[0m\u001b[0mvb\u001b[0m\u001b[0;34m,\u001b[0m \u001b[0mrow\u001b[0m\u001b[0;34m,\u001b[0m \u001b[0mcol\u001b[0m\u001b[0;34m,\u001b[0m \u001b[0mrowspan\u001b[0m\u001b[0;34m,\u001b[0m \u001b[0mcolspan\u001b[0m\u001b[0;34m)\u001b[0m\u001b[0;34m\u001b[0m\u001b[0m\n\u001b[1;32m     79\u001b[0m         \u001b[0;32mreturn\u001b[0m \u001b[0mvb\u001b[0m\u001b[0;34m\u001b[0m\u001b[0m\n",
      "\u001b[0;31mTypeError\u001b[0m: __init__() got an unexpected keyword argument 'size'"
     ]
    }
   ],
   "source": [
    "import pisap\n",
    "from pisap.data import get_sample_data\n",
    "\n",
    "image = get_sample_data(\"mri-slice-nifti\")\n",
    "transform_klass = pisap.load_transform(\"FastCurveletTransform\")\n",
    "transform = transform_klass(nb_scale=4, verbose=1)\n",
    "transform.data = image\n",
    "transform.analysis()\n",
    "transform.show()\n",
    "rec_image = transform.synthesis()\n",
    "rec_image.show()"
   ]
  },
  {
   "cell_type": "code",
   "execution_count": null,
   "metadata": {},
   "outputs": [],
   "source": []
  }
 ],
 "metadata": {
  "kernelspec": {
   "display_name": "Python 2",
   "language": "python",
   "name": "python2"
  },
  "language_info": {
   "codemirror_mode": {
    "name": "ipython",
    "version": 2
   },
   "file_extension": ".py",
   "mimetype": "text/x-python",
   "name": "python",
   "nbconvert_exporter": "python",
   "pygments_lexer": "ipython2",
   "version": "2.7.12"
  }
 },
 "nbformat": 4,
 "nbformat_minor": 1
}

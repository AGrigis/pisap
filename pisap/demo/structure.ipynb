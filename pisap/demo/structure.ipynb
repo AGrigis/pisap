{
 "metadata": {
  "kernelspec": {
   "display_name": "Python 2",
   "language": "python",
   "name": "python2"
  },
  "language_info": {
   "codemirror_mode": {
    "name": "ipython",
    "version": 2
   },
   "file_extension": ".py",
   "mimetype": "text/x-python",
   "name": "python",
   "nbconvert_exporter": "python",
   "pygments_lexer": "ipython2",
   "version": "2.7.13"
  },
  "name": "",
  "signature": "sha256:c110d6fe6ddf903de0f19ba02e013f6fce7397c5ad39c862a6bc15ec1ce60446"
 },
 "nbformat": 3,
 "nbformat_minor": 0,
 "worksheets": [
  {
   "cells": [
    {
     "cell_type": "markdown",
     "metadata": {},
     "source": [
      "<h1><center>PISAP: Python Interactive Sparse Astronomical Data Analysis Packages</center></h1>\n",
      "<h2><center>Anstronomic/Neuroimaging common structure overview</center></h2>\n",
      "<div style=\"text-align: center\">Credit: </div>\n",
      "\n",
      "Pisap is a Python package related to sparsity and its application in\n",
      "astronomical or mediacal data analysis. This package also bind the 'sparse2d' C++ library\n",
      "that allows fast and extended sparse decomposition, denoising and deconvolution.\n",
      "It is accessible to everybody, and is reusable in various contexts.\n",
      "The project is hosted on github: https://github.com/neurospin/pisap.<br><br>\n",
      "\n",
      "<h3>First check</h3>\n",
      "\n",
      "In order to test if the 'pisap' package is installed on your machine, you can check the package version:"
     ]
    },
    {
     "cell_type": "code",
     "collapsed": false,
     "input": [
      "import pisap\n",
      "\n",
      "print pisap.__version__"
     ],
     "language": "python",
     "metadata": {},
     "outputs": [
      {
       "output_type": "stream",
       "stream": "stdout",
       "text": [
        "0.0.0\n"
       ]
      }
     ],
     "prompt_number": 8
    },
    {
     "cell_type": "markdown",
     "metadata": {},
     "source": [
      "<h2>Import astronomical data</h2>\n",
      "\n",
      "The package provides a common interface to import and visualize astronomical FITS dataset. It also embeds a set of toy dataset that will be used during this tutorial:\n",
      "\n"
     ]
    },
    {
     "cell_type": "code",
     "collapsed": false,
     "input": [
      "import pisap\n",
      "from pprint import pprint\n",
      "from pisap.data import get_sample_data\n",
      "\n",
      "fits_data_path = get_sample_data(\"astro-fits\")\n",
      "image = pisap.io.load(fits_data_path)\n",
      "print image.shape, image.spacing, image.data_type\n",
      "pprint(image.metadata)\n",
      "print image.data.dtype\n",
      "image.show()"
     ],
     "language": "python",
     "metadata": {},
     "outputs": [
      {
       "output_type": "stream",
       "stream": "stdout",
       "text": [
        "(128, 128) [ 1.  1.] scalar\n",
        "{'BITPIX': -64,\n",
        " 'COMMENT': \"  and Astrophysics', volume 376, page 359; bibcode: 2001A&A...376..359H\",\n",
        " 'EXTEND': True,\n",
        " 'NAXIS': 2,\n",
        " 'NAXIS1': 128,\n",
        " 'NAXIS2': 128,\n",
        " 'SIMPLE': True,\n",
        " 'path': '/home/ag239446/.local/share/pisap/M31_128.fits'}\n",
        "float32\n"
       ]
      }
     ],
     "prompt_number": 9
    },
    {
     "cell_type": "markdown",
     "metadata": {},
     "source": [
      "<h2>Import neuroimaging data</h2>\n",
      "\n",
      "The package provides a common interface to import and visualize neuroimaging NIFTI dataset. It also embeds a set of toy dataset that will be used during this tutorial:\n",
      "\n"
     ]
    },
    {
     "cell_type": "code",
     "collapsed": false,
     "input": [
      "import pisap\n",
      "from pprint import pprint\n",
      "from pisap.data import get_sample_data\n",
      "\n",
      "nifti_data_path = get_sample_data(\"mri-nifti\")\n",
      "image = pisap.io.load(nifti_data_path)\n",
      "image.scroll_axis = 2\n",
      "print image.shape, image.spacing, image.data_type\n",
      "pprint(image.metadata)\n",
      "print image.data.dtype\n",
      "image.show()"
     ],
     "language": "python",
     "metadata": {},
     "outputs": [
      {
       "output_type": "stream",
       "stream": "stdout",
       "text": [
        "(240, 256, 160) [ 1.          1.          1.10000002] scalar\n",
        "{'path': '/home/ag239446/.local/share/pisap/t1_localizer.nii.gz'}\n",
        "float32\n"
       ]
      }
     ],
     "prompt_number": 10
    },
    {
     "cell_type": "markdown",
     "metadata": {},
     "source": [
      "<h2>Decompose/recompose an image using a Python discrete wavelet transform</h2>\n",
      "\n",
      "The package provides a common interface to decompose an image data using a DWT implemented in Python. For the moment the interface only deal with 1D and 2D. A bunch of wavelet transform are registered and can be extended in your project by increasing the WMAP structure:\n",
      "\n"
     ]
    },
    {
     "cell_type": "code",
     "collapsed": false,
     "input": [
      "from pisap import WMAP\n",
      "from pprint import pprint\n",
      "\n",
      "pprint(WMAP)"
     ],
     "language": "python",
     "metadata": {},
     "outputs": [
      {
       "output_type": "stream",
       "stream": "stdout",
       "text": [
        "{'97': {'dwt': True,\n",
        "        'family_name': 'Bior4',\n",
        "        'func': 'pisap.sparsity.wavelet2d.bio97',\n",
        "        'wtype': 'biorthogonal'},\n",
        " 'haar': {'dwt': True,\n",
        "          'family_name': 'Haar',\n",
        "          'func': 'pisap.sparsity.wavelet2d.haar',\n",
        "          'wtype': 'orthogonal'}}\n"
       ]
      }
     ],
     "prompt_number": 11
    },
    {
     "cell_type": "markdown",
     "metadata": {},
     "source": [
      "The WMAP registry is a simple dictionay with authorized wavelet transform as keys. We can create a wavelet transform:\n",
      "\n"
     ]
    },
    {
     "cell_type": "code",
     "collapsed": false,
     "input": [
      "from pisap import WMAP\n",
      "from pisap import Wavelet\n",
      "\n",
      "wavelet = Wavelet(name=\"haar\")\n",
      "print wavelet\n",
      "wavelet.show(scales=range(1, 4))"
     ],
     "language": "python",
     "metadata": {},
     "outputs": [
      {
       "output_type": "stream",
       "stream": "stdout",
       "text": [
        "Wavelet haar\n",
        "  Family name:    Haar\n",
        "  Filters length: 2\n",
        "  Type:           orthogonal\n",
        "  DWT:            True\n"
       ]
      }
     ],
     "prompt_number": 12
    },
    {
     "cell_type": "markdown",
     "metadata": {},
     "source": [
      "We now decompose an input 2D data on this basis and recompose it:\n",
      "\n"
     ]
    },
    {
     "cell_type": "code",
     "collapsed": false,
     "input": [
      "import pisap\n",
      "from pisap import WaveletTransform\n",
      "from pisap.data import get_sample_data\n",
      "\n",
      "nifti_data_path = get_sample_data(\"mri-nifti\")\n",
      "image = pisap.io.load(nifti_data_path)\n",
      "transform = WaveletTransform(data=image.data[..., 50], wavelet=\"haar\", maxscale=3)\n",
      "transform.analysis()\n",
      "print transform.get_scale(2, order=\"freq\")\n",
      "transform.show(scales=range(1, 3))\n",
      "rec_image = transform.synthesis()\n",
      "rec_image.show()"
     ],
     "language": "python",
     "metadata": {},
     "outputs": [
      {
       "output_type": "stream",
       "stream": "stdout",
       "text": [
        "[[<pisap.base.nodes.Node2D object at 0x7f4393694410>: 3 - (60, 64) aa, <pisap.base.nodes.Node2D object at 0x7f4393694350>: 3 - (60, 64) av, <pisap.base.nodes.Node2D object at 0x7f4393694d50>: 3 - (60, 64) vv, <pisap.base.nodes.Node2D object at 0x7f43936948d0>: 3 - (60, 64) va], [<pisap.base.nodes.Node2D object at 0x7f4393694390>: 3 - (60, 64) ah, <pisap.base.nodes.Node2D object at 0x7f43936943d0>: 3 - (60, 64) ad, <pisap.base.nodes.Node2D object at 0x7f4393694e10>: 3 - (60, 64) vd, <pisap.base.nodes.Node2D object at 0x7f4393694e90>: 3 - (60, 64) vh], [<pisap.base.nodes.Node2D object at 0x7f4393694990>: 3 - (60, 64) hh, <pisap.base.nodes.Node2D object at 0x7f4393694910>: 3 - (60, 64) hd, <pisap.base.nodes.Node2D object at 0x7f439369d350>: 3 - (60, 64) dd, <pisap.base.nodes.Node2D object at 0x7f439369d3d0>: 3 - (60, 64) dh], [<pisap.base.nodes.Node2D object at 0x7f4393694450>: 3 - (60, 64) ha, <pisap.base.nodes.Node2D object at 0x7f4393694850>: 3 - (60, 64) hv, <pisap.base.nodes.Node2D object at 0x7f439369d290>: 3 - (60, 64) dv, <pisap.base.nodes.Node2D object at 0x7f4393694dd0>: 3 - (60, 64) da]]\n"
       ]
      }
     ],
     "prompt_number": 13
    },
    {
     "cell_type": "markdown",
     "metadata": {},
     "source": [
      "<h2>Decompose/recompose an image using a fast ISAP/C++ based discrete wavelet transform</h2>\n",
      "\n",
      "The package provides also a common interface to the ISAP C++ software developped by the COSMOSTAT lab. The code is optimzed and give access to many decompsition strategies. In this example we perform a decomposition using the 79 wavelet:"
     ]
    },
    {
     "cell_type": "code",
     "collapsed": false,
     "input": [
      "import pisap\n",
      "from pisap import WaveletTransform\n",
      "from pisap.data import get_sample_data\n",
      "\n",
      "nifti_data_path = get_sample_data(\"mri-nifti\")\n",
      "image = pisap.io.load(nifti_data_path)\n",
      "transform = WaveletTransform(data=image.data[..., 50], wavelet=\"79\", maxscale=4, use_isap=True)\n",
      "isap_parameters = {\n",
      "    \"type_of_multiresolution_transform\": 2,\n",
      "    \"write_all_bands\": False,\n",
      "    \"write_all_bands_with_block_interp\": False,\n",
      "    \"type_of_filters\": 1,\n",
      "    \"use_l2_norm\": False,\n",
      "    \"type_of_non_orthog_filters\": 2}\n",
      "transform.analysis(**isap_parameters)\n",
      "transform.show()\n",
      "rec_image = transform.synthesis()\n",
      "rec_image.show()"
     ],
     "language": "python",
     "metadata": {},
     "outputs": [],
     "prompt_number": 14
    },
    {
     "cell_type": "code",
     "collapsed": false,
     "input": [],
     "language": "python",
     "metadata": {},
     "outputs": []
    }
   ],
   "metadata": {}
  }
 ]
}
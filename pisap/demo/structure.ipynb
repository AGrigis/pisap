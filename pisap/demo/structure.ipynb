{
 "metadata": {
  "kernelspec": {
   "display_name": "Python 2",
   "language": "python",
   "name": "python2"
  },
  "language_info": {
   "codemirror_mode": {
    "name": "ipython",
    "version": 2
   },
   "file_extension": ".py",
   "mimetype": "text/x-python",
   "name": "python",
   "nbconvert_exporter": "python",
   "pygments_lexer": "ipython2",
   "version": "2.7.13"
  },
  "name": "",
  "signature": "sha256:d8226d9e2d83d64c8ed510de3fbc417f95b8d690614725b892b58244e173bfe6"
 },
 "nbformat": 3,
 "nbformat_minor": 0,
 "worksheets": [
  {
   "cells": [
    {
     "cell_type": "markdown",
     "metadata": {},
     "source": [
      "<h1><center>PISAP: Python Interactive Sparse Astronomical Data Analysis Packages</center></h1>\n",
      "<h2><center>Anstronomic/Neuroimaging common structure overview</center></h2>\n",
      "<div style=\"text-align: center\">Credit: </div>\n",
      "\n",
      "Pisap is a Python package related to sparsity and its application in\n",
      "astronomical or mediacal data analysis. This package also bind the 'sparse2d' C++ library\n",
      "that allows fast and extended sparse decomposition, denoising and deconvolution.\n",
      "It is accessible to everybody, and is reusable in various contexts.\n",
      "The project is hosted on github: https://github.com/neurospin/pisap.<br><br>\n",
      "\n",
      "<h3>First check</h3>\n",
      "\n",
      "In order to test if the 'pisap' package is installed on your machine, you can check the package version:"
     ]
    },
    {
     "cell_type": "code",
     "collapsed": false,
     "input": [
      "import pisap\n",
      "\n",
      "print pisap.__version__"
     ],
     "language": "python",
     "metadata": {},
     "outputs": [
      {
       "output_type": "stream",
       "stream": "stdout",
       "text": [
        "0.0.0\n"
       ]
      }
     ],
     "prompt_number": 1
    },
    {
     "cell_type": "markdown",
     "metadata": {},
     "source": [
      "<h2>Import astronomical data</h2>\n",
      "\n",
      "The package provides a common interface to import and visualize astronomical FITS dataset. It also embeds a set of toy dataset that will be used during this tutorial:\n",
      "\n"
     ]
    },
    {
     "cell_type": "code",
     "collapsed": false,
     "input": [
      "import pisap\n",
      "from pprint import pprint\n",
      "from pisap.data import get_sample_data\n",
      "\n",
      "fits_data_path = get_sample_data(\"astro-fits\")\n",
      "image = pisap.io.load(fits_data_path)\n",
      "print image.shape, image.spacing, image.data_type\n",
      "pprint(image.metadata)\n",
      "print image.data.dtype\n",
      "image.show()"
     ],
     "language": "python",
     "metadata": {},
     "outputs": [
      {
       "output_type": "stream",
       "stream": "stdout",
       "text": [
        "(128, 128) [ 1.  1.] scalar\n",
        "{'BITPIX': -64,\n",
        " 'COMMENT': \"  and Astrophysics', volume 376, page 359; bibcode: 2001A&A...376..359H\",\n",
        " 'EXTEND': True,\n",
        " 'NAXIS': 2,\n",
        " 'NAXIS1': 128,\n",
        " 'NAXIS2': 128,\n",
        " 'SIMPLE': True,\n",
        " 'path': '/home/ag239446/.local/share/pisap/M31_128.fits'}\n",
        "float32\n"
       ]
      }
     ],
     "prompt_number": 2
    },
    {
     "cell_type": "markdown",
     "metadata": {},
     "source": [
      "<h2>Import neuroimaging data</h2>\n",
      "\n",
      "The package provides a common interface to import and visualize neuroimaging NIFTI dataset. It also embeds a set of toy dataset that will be used during this tutorial:\n",
      "\n"
     ]
    },
    {
     "cell_type": "code",
     "collapsed": false,
     "input": [
      "import pisap\n",
      "from pprint import pprint\n",
      "from pisap.data import get_sample_data\n",
      "\n",
      "nifti_data_path = get_sample_data(\"mri-nifti\")\n",
      "image = pisap.io.load(nifti_data_path)\n",
      "image.scroll_axis = 2\n",
      "print image.shape, image.spacing, image.data_type\n",
      "pprint(image.metadata)\n",
      "print image.data.dtype\n",
      "image.show()"
     ],
     "language": "python",
     "metadata": {},
     "outputs": [
      {
       "output_type": "stream",
       "stream": "stdout",
       "text": [
        "(512, 512) [ 1.  1.] scalar\n",
        "{'path': '/home/ag239446/.local/share/pisap/BrainPhantom512.nii.gz'}\n",
        "float32\n"
       ]
      }
     ],
     "prompt_number": 8
    },
    {
     "cell_type": "markdown",
     "metadata": {},
     "source": [
      "<h2>Decompose/recompose an image using a fast ISAP/C++ based discrete wavelet transform</h2>\n",
      "\n",
      "The package provides also a common interface to the ISAP C++ software developped by the COSMOSTAT lab. The code is optimzed and give access to many decompsition strategies. All the ISAP library decompositions have been declared in a registery:"
     ]
    },
    {
     "cell_type": "code",
     "collapsed": false,
     "input": [
      "from pprint import pprint\n",
      "import pisap.extensions.transform\n",
      "from pisap.base.transform import WaveletTransformBase\n",
      "pprint(WaveletTransformBase.REGISTRY)"
     ],
     "language": "python",
     "metadata": {},
     "outputs": [
      {
       "output_type": "stream",
       "stream": "stdout",
       "text": [
        "{'BsplineWaveletTransformATrousAlgorithm': <class 'pisap.extensions.transform.BsplineWaveletTransformATrousAlgorithm'>,\n",
        " 'DecompositionOnScalingFunction': <class 'pisap.extensions.transform.DecompositionOnScalingFunction'>,\n",
        " 'FeauveauWaveletTransformWithoutUndersampling': <class 'pisap.extensions.transform.FeauveauWaveletTransformWithoutUndersampling'>,\n",
        " 'HaarWaveletTransform': <class 'pisap.extensions.transform.HaarWaveletTransform'>,\n",
        " 'HalfPyramidalTransform': <class 'pisap.extensions.transform.HalfPyramidalTransform'>,\n",
        " 'LinearWaveletTransformATrousAlgorithm': <class 'pisap.extensions.transform.LinearWaveletTransformATrousAlgorithm'>,\n",
        " 'MallatWaveletTransform79Filters': <class 'pisap.extensions.transform.MallatWaveletTransform79Filters'>,\n",
        " 'MixedHalfPyramidalWTAndMedianMethod': <class 'pisap.extensions.transform.MixedHalfPyramidalWTAndMedianMethod'>,\n",
        " 'MixedWTAndPMTMethod': <class 'pisap.extensions.transform.MixedWTAndPMTMethod'>,\n",
        " 'MorphologicalMedianTransform': <class 'pisap.extensions.transform.MorphologicalMedianTransform'>,\n",
        " 'MorphologicalMinmaxTransform': <class 'pisap.extensions.transform.MorphologicalMinmaxTransform'>,\n",
        " 'MorphologicalPyramidalMinmaxTransform': <class 'pisap.extensions.transform.MorphologicalPyramidalMinmaxTransform'>,\n",
        " 'NonOrthogonalUndecimatedTransform': <class 'pisap.extensions.transform.NonOrthogonalUndecimatedTransform'>,\n",
        " 'OnLine44AndOnColumn53': <class 'pisap.extensions.transform.OnLine44AndOnColumn53'>,\n",
        " 'OnLine53AndOnColumn44': <class 'pisap.extensions.transform.OnLine53AndOnColumn44'>,\n",
        " 'PyramidalBsplineWaveletTransform': <class 'pisap.extensions.transform.PyramidalBsplineWaveletTransform'>,\n",
        " 'PyramidalLaplacian': <class 'pisap.extensions.transform.PyramidalLaplacian'>,\n",
        " 'PyramidalLinearWaveletTransform': <class 'pisap.extensions.transform.PyramidalLinearWaveletTransform'>,\n",
        " 'PyramidalMedianTransform': <class 'pisap.extensions.transform.PyramidalMedianTransform'>,\n",
        " 'PyramidalWaveletTransformInFourierSpaceAlgo1': <class 'pisap.extensions.transform.PyramidalWaveletTransformInFourierSpaceAlgo1'>,\n",
        " 'PyramidalWaveletTransformInFourierSpaceAlgo2': <class 'pisap.extensions.transform.PyramidalWaveletTransformInFourierSpaceAlgo2'>,\n",
        " 'UndecimatedBiOrthogonalTransform': <class 'pisap.extensions.transform.UndecimatedBiOrthogonalTransform'>,\n",
        " 'UndecimatedDiadicWaveletTransform': <class 'pisap.extensions.transform.UndecimatedDiadicWaveletTransform'>,\n",
        " 'UndecimatedHaarTransformATrousAlgorithm': <class 'pisap.extensions.transform.UndecimatedHaarTransformATrousAlgorithm'>,\n",
        " 'WaveletTransformInFourierSpace': <class 'pisap.extensions.transform.WaveletTransformInFourierSpace'>,\n",
        " 'WaveletTransformViaLiftingScheme': <class 'pisap.extensions.transform.WaveletTransformViaLiftingScheme'>}\n"
       ]
      }
     ],
     "prompt_number": 4
    },
    {
     "cell_type": "markdown",
     "metadata": {},
     "source": [
      "We illustrate the the decompose/recompose using a 79 wavelet transform:"
     ]
    },
    {
     "cell_type": "code",
     "collapsed": false,
     "input": [
      "import pisap.extensions.transform\n",
      "from pisap.base.transform import WaveletTransformBase\n",
      "from pisap.data import get_sample_data\n",
      "\n",
      "nifti_data_path = get_sample_data(\"mri-slice-nifti\")\n",
      "image = pisap.io.load(nifti_data_path)\n",
      "transform = WaveletTransformBase.REGISTRY[\"MallatWaveletTransform79Filters\"](nb_scale=4, verbose=1)\n",
      "transform.data = image\n",
      "transform.analysis()\n",
      "transform.show()\n",
      "rec_image = transform.synthesis()\n",
      "rec_image.show()"
     ],
     "language": "python",
     "metadata": {},
     "outputs": [
      {
       "output_type": "stream",
       "stream": "stdout",
       "text": [
        "[info] Executing ISAP command: mr_transform -t 14 -n 4 -U 2 -v -T 1 -L /tmp/tmpzt0k2x/in.fits /tmp/tmpzt0k2x/cube.mr...\n",
        "[info] Executing ISAP command: mr_recons -v /tmp/tmpXUTRV5/cube.mr /tmp/tmpXUTRV5/out.fits..."
       ]
      },
      {
       "output_type": "stream",
       "stream": "stdout",
       "text": [
        "\n"
       ]
      }
     ],
     "prompt_number": 2
    }
   ],
   "metadata": {}
  }
 ]
}